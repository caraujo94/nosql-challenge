{
 "cells": [
  {
   "cell_type": "markdown",
   "id": "9a57c4c6",
   "metadata": {},
   "source": [
    "# Eat Safe, Love"
   ]
  },
  {
   "cell_type": "markdown",
   "id": "064ef857",
   "metadata": {},
   "source": [
    "## Notebook Set Up"
   ]
  },
  {
   "cell_type": "code",
   "execution_count": 12,
   "id": "3ecdd008",
   "metadata": {},
   "outputs": [],
   "source": [
    "from pymongo import MongoClient\n",
    "import pandas as pd\n",
    "from pprint import pprint"
   ]
  },
  {
   "cell_type": "code",
   "execution_count": 13,
   "id": "59390c4a",
   "metadata": {},
   "outputs": [],
   "source": [
    "# Create an instance of MongoClient\n",
    "mongo = MongoClient(port=27017)"
   ]
  },
  {
   "cell_type": "code",
   "execution_count": 14,
   "id": "71e373c1",
   "metadata": {},
   "outputs": [],
   "source": [
    "# assign the uk_food database to a variable name\n",
    "db = mongo['uk_food']"
   ]
  },
  {
   "cell_type": "code",
   "execution_count": 18,
   "id": "18ab463c",
   "metadata": {},
   "outputs": [
    {
     "ename": "ServerSelectionTimeoutError",
     "evalue": "localhost:27017: [Errno 61] Connection refused (configured timeouts: socketTimeoutMS: 20000.0ms, connectTimeoutMS: 20000.0ms), Timeout: 30s, Topology Description: <TopologyDescription id: 65ffa3330bbbc474c8e9c29d, topology_type: Unknown, servers: [<ServerDescription ('localhost', 27017) server_type: Unknown, rtt: None, error=AutoReconnect('localhost:27017: [Errno 61] Connection refused (configured timeouts: socketTimeoutMS: 20000.0ms, connectTimeoutMS: 20000.0ms)')>]>",
     "output_type": "error",
     "traceback": [
      "\u001b[0;31m---------------------------------------------------------------------------\u001b[0m",
      "\u001b[0;31mServerSelectionTimeoutError\u001b[0m               Traceback (most recent call last)",
      "\u001b[1;32m/Users/carlosaraujo/Desktop/DataClass/HW_Challenge/nosql-challenge/Starter_Code/NoSQL_analysis_starter.ipynb Cell 6\u001b[0m line \u001b[0;36m2\n\u001b[1;32m      <a href='vscode-notebook-cell:/Users/carlosaraujo/Desktop/DataClass/HW_Challenge/nosql-challenge/Starter_Code/NoSQL_analysis_starter.ipynb#W5sZmlsZQ%3D%3D?line=0'>1</a>\u001b[0m \u001b[39m# review the collections in our database\u001b[39;00m\n\u001b[0;32m----> <a href='vscode-notebook-cell:/Users/carlosaraujo/Desktop/DataClass/HW_Challenge/nosql-challenge/Starter_Code/NoSQL_analysis_starter.ipynb#W5sZmlsZQ%3D%3D?line=1'>2</a>\u001b[0m db\u001b[39m.\u001b[39mlist_collection_names()\n",
      "File \u001b[0;32m~/anaconda3/lib/python3.11/site-packages/pymongo/database.py:1147\u001b[0m, in \u001b[0;36mDatabase.list_collection_names\u001b[0;34m(self, session, filter, comment, **kwargs)\u001b[0m\n\u001b[1;32m   1144\u001b[0m     \u001b[39mif\u001b[39;00m \u001b[39mnot\u001b[39;00m \u001b[39mfilter\u001b[39m \u001b[39mor\u001b[39;00m (\u001b[39mlen\u001b[39m(\u001b[39mfilter\u001b[39m) \u001b[39m==\u001b[39m \u001b[39m1\u001b[39m \u001b[39mand\u001b[39;00m \u001b[39m\"\u001b[39m\u001b[39mname\u001b[39m\u001b[39m\"\u001b[39m \u001b[39min\u001b[39;00m \u001b[39mfilter\u001b[39m):\n\u001b[1;32m   1145\u001b[0m         kwargs[\u001b[39m\"\u001b[39m\u001b[39mnameOnly\u001b[39m\u001b[39m\"\u001b[39m] \u001b[39m=\u001b[39m \u001b[39mTrue\u001b[39;00m\n\u001b[0;32m-> 1147\u001b[0m \u001b[39mreturn\u001b[39;00m [result[\u001b[39m\"\u001b[39m\u001b[39mname\u001b[39m\u001b[39m\"\u001b[39m] \u001b[39mfor\u001b[39;00m result \u001b[39min\u001b[39;00m \u001b[39mself\u001b[39m\u001b[39m.\u001b[39mlist_collections(session\u001b[39m=\u001b[39msession, \u001b[39m*\u001b[39m\u001b[39m*\u001b[39mkwargs)]\n",
      "File \u001b[0;32m~/anaconda3/lib/python3.11/site-packages/pymongo/database.py:1099\u001b[0m, in \u001b[0;36mDatabase.list_collections\u001b[0;34m(self, session, filter, comment, **kwargs)\u001b[0m\n\u001b[1;32m   1091\u001b[0m \u001b[39mdef\u001b[39;00m \u001b[39m_cmd\u001b[39m(\n\u001b[1;32m   1092\u001b[0m     session: Optional[ClientSession],\n\u001b[1;32m   1093\u001b[0m     _server: Server,\n\u001b[1;32m   1094\u001b[0m     conn: Connection,\n\u001b[1;32m   1095\u001b[0m     read_preference: _ServerMode,\n\u001b[1;32m   1096\u001b[0m ) \u001b[39m-\u001b[39m\u001b[39m>\u001b[39m CommandCursor[MutableMapping[\u001b[39mstr\u001b[39m, Any]]:\n\u001b[1;32m   1097\u001b[0m     \u001b[39mreturn\u001b[39;00m \u001b[39mself\u001b[39m\u001b[39m.\u001b[39m_list_collections(conn, session, read_preference\u001b[39m=\u001b[39mread_preference, \u001b[39m*\u001b[39m\u001b[39m*\u001b[39mkwargs)\n\u001b[0;32m-> 1099\u001b[0m \u001b[39mreturn\u001b[39;00m \u001b[39mself\u001b[39m\u001b[39m.\u001b[39m__client\u001b[39m.\u001b[39m_retryable_read(_cmd, read_pref, session)\n",
      "File \u001b[0;32m~/anaconda3/lib/python3.11/site-packages/pymongo/mongo_client.py:1492\u001b[0m, in \u001b[0;36mMongoClient._retryable_read\u001b[0;34m(self, func, read_pref, session, address, retryable)\u001b[0m\n\u001b[1;32m   1487\u001b[0m \u001b[39m# Ensure that the client supports retrying on reads and there is no session in\u001b[39;00m\n\u001b[1;32m   1488\u001b[0m \u001b[39m# transaction, otherwise, we will not support retry behavior for this call.\u001b[39;00m\n\u001b[1;32m   1489\u001b[0m retryable \u001b[39m=\u001b[39m \u001b[39mbool\u001b[39m(\n\u001b[1;32m   1490\u001b[0m     retryable \u001b[39mand\u001b[39;00m \u001b[39mself\u001b[39m\u001b[39m.\u001b[39moptions\u001b[39m.\u001b[39mretry_reads \u001b[39mand\u001b[39;00m \u001b[39mnot\u001b[39;00m (session \u001b[39mand\u001b[39;00m session\u001b[39m.\u001b[39min_transaction)\n\u001b[1;32m   1491\u001b[0m )\n\u001b[0;32m-> 1492\u001b[0m \u001b[39mreturn\u001b[39;00m \u001b[39mself\u001b[39m\u001b[39m.\u001b[39m_retry_internal(\n\u001b[1;32m   1493\u001b[0m     func,\n\u001b[1;32m   1494\u001b[0m     session,\n\u001b[1;32m   1495\u001b[0m     \u001b[39mNone\u001b[39;00m,\n\u001b[1;32m   1496\u001b[0m     is_read\u001b[39m=\u001b[39m\u001b[39mTrue\u001b[39;00m,\n\u001b[1;32m   1497\u001b[0m     address\u001b[39m=\u001b[39maddress,\n\u001b[1;32m   1498\u001b[0m     read_pref\u001b[39m=\u001b[39mread_pref,\n\u001b[1;32m   1499\u001b[0m     retryable\u001b[39m=\u001b[39mretryable,\n\u001b[1;32m   1500\u001b[0m )\n",
      "File \u001b[0;32m~/anaconda3/lib/python3.11/site-packages/pymongo/_csot.py:107\u001b[0m, in \u001b[0;36mapply.<locals>.csot_wrapper\u001b[0;34m(self, *args, **kwargs)\u001b[0m\n\u001b[1;32m    105\u001b[0m         \u001b[39mwith\u001b[39;00m _TimeoutContext(timeout):\n\u001b[1;32m    106\u001b[0m             \u001b[39mreturn\u001b[39;00m func(\u001b[39mself\u001b[39m, \u001b[39m*\u001b[39margs, \u001b[39m*\u001b[39m\u001b[39m*\u001b[39mkwargs)\n\u001b[0;32m--> 107\u001b[0m \u001b[39mreturn\u001b[39;00m func(\u001b[39mself\u001b[39m, \u001b[39m*\u001b[39margs, \u001b[39m*\u001b[39m\u001b[39m*\u001b[39mkwargs)\n",
      "File \u001b[0;32m~/anaconda3/lib/python3.11/site-packages/pymongo/mongo_client.py:1462\u001b[0m, in \u001b[0;36mMongoClient._retry_internal\u001b[0;34m(self, func, session, bulk, is_read, address, read_pref, retryable)\u001b[0m\n\u001b[1;32m   1428\u001b[0m \u001b[39m@_csot\u001b[39m\u001b[39m.\u001b[39mapply\n\u001b[1;32m   1429\u001b[0m \u001b[39mdef\u001b[39;00m \u001b[39m_retry_internal\u001b[39m(\n\u001b[1;32m   1430\u001b[0m     \u001b[39mself\u001b[39m,\n\u001b[0;32m   (...)\u001b[0m\n\u001b[1;32m   1437\u001b[0m     retryable: \u001b[39mbool\u001b[39m \u001b[39m=\u001b[39m \u001b[39mFalse\u001b[39;00m,\n\u001b[1;32m   1438\u001b[0m ) \u001b[39m-\u001b[39m\u001b[39m>\u001b[39m T:\n\u001b[1;32m   1439\u001b[0m \u001b[39m    \u001b[39m\u001b[39m\"\"\"Internal retryable helper for all client transactions.\u001b[39;00m\n\u001b[1;32m   1440\u001b[0m \n\u001b[1;32m   1441\u001b[0m \u001b[39m    :Parameters:\u001b[39;00m\n\u001b[0;32m   (...)\u001b[0m\n\u001b[1;32m   1451\u001b[0m \u001b[39m      Output of the calling func()\u001b[39;00m\n\u001b[1;32m   1452\u001b[0m \u001b[39m    \"\"\"\u001b[39;00m\n\u001b[1;32m   1453\u001b[0m     \u001b[39mreturn\u001b[39;00m _ClientConnectionRetryable(\n\u001b[1;32m   1454\u001b[0m         mongo_client\u001b[39m=\u001b[39m\u001b[39mself\u001b[39m,\n\u001b[1;32m   1455\u001b[0m         func\u001b[39m=\u001b[39mfunc,\n\u001b[1;32m   1456\u001b[0m         bulk\u001b[39m=\u001b[39mbulk,\n\u001b[1;32m   1457\u001b[0m         is_read\u001b[39m=\u001b[39mis_read,\n\u001b[1;32m   1458\u001b[0m         session\u001b[39m=\u001b[39msession,\n\u001b[1;32m   1459\u001b[0m         read_pref\u001b[39m=\u001b[39mread_pref,\n\u001b[1;32m   1460\u001b[0m         address\u001b[39m=\u001b[39maddress,\n\u001b[1;32m   1461\u001b[0m         retryable\u001b[39m=\u001b[39mretryable,\n\u001b[0;32m-> 1462\u001b[0m     )\u001b[39m.\u001b[39mrun()\n",
      "File \u001b[0;32m~/anaconda3/lib/python3.11/site-packages/pymongo/mongo_client.py:2315\u001b[0m, in \u001b[0;36m_ClientConnectionRetryable.run\u001b[0;34m(self)\u001b[0m\n\u001b[1;32m   2313\u001b[0m \u001b[39mself\u001b[39m\u001b[39m.\u001b[39m_check_last_error(check_csot\u001b[39m=\u001b[39m\u001b[39mTrue\u001b[39;00m)\n\u001b[1;32m   2314\u001b[0m \u001b[39mtry\u001b[39;00m:\n\u001b[0;32m-> 2315\u001b[0m     \u001b[39mreturn\u001b[39;00m \u001b[39mself\u001b[39m\u001b[39m.\u001b[39m_read() \u001b[39mif\u001b[39;00m \u001b[39mself\u001b[39m\u001b[39m.\u001b[39m_is_read \u001b[39melse\u001b[39;00m \u001b[39mself\u001b[39m\u001b[39m.\u001b[39m_write()\n\u001b[1;32m   2316\u001b[0m \u001b[39mexcept\u001b[39;00m ServerSelectionTimeoutError:\n\u001b[1;32m   2317\u001b[0m     \u001b[39m# The application may think the write was never attempted\u001b[39;00m\n\u001b[1;32m   2318\u001b[0m     \u001b[39m# if we raise ServerSelectionTimeoutError on the retry\u001b[39;00m\n\u001b[1;32m   2319\u001b[0m     \u001b[39m# attempt. Raise the original exception instead.\u001b[39;00m\n\u001b[1;32m   2320\u001b[0m     \u001b[39mself\u001b[39m\u001b[39m.\u001b[39m_check_last_error()\n",
      "File \u001b[0;32m~/anaconda3/lib/python3.11/site-packages/pymongo/mongo_client.py:2437\u001b[0m, in \u001b[0;36m_ClientConnectionRetryable._read\u001b[0;34m(self)\u001b[0m\n\u001b[1;32m   2431\u001b[0m \u001b[39mdef\u001b[39;00m \u001b[39m_read\u001b[39m(\u001b[39mself\u001b[39m) \u001b[39m-\u001b[39m\u001b[39m>\u001b[39m T:\n\u001b[1;32m   2432\u001b[0m \u001b[39m    \u001b[39m\u001b[39m\"\"\"Wrapper method for read-type retryable client executions\u001b[39;00m\n\u001b[1;32m   2433\u001b[0m \n\u001b[1;32m   2434\u001b[0m \u001b[39m    :Returns:\u001b[39;00m\n\u001b[1;32m   2435\u001b[0m \u001b[39m        Output for func()'s call\u001b[39;00m\n\u001b[1;32m   2436\u001b[0m \u001b[39m    \"\"\"\u001b[39;00m\n\u001b[0;32m-> 2437\u001b[0m     \u001b[39mself\u001b[39m\u001b[39m.\u001b[39m_server \u001b[39m=\u001b[39m \u001b[39mself\u001b[39m\u001b[39m.\u001b[39m_get_server()\n\u001b[1;32m   2438\u001b[0m     \u001b[39massert\u001b[39;00m \u001b[39mself\u001b[39m\u001b[39m.\u001b[39m_read_pref \u001b[39mis\u001b[39;00m \u001b[39mnot\u001b[39;00m \u001b[39mNone\u001b[39;00m, \u001b[39m\"\u001b[39m\u001b[39mRead Preference required on read calls\u001b[39m\u001b[39m\"\u001b[39m\n\u001b[1;32m   2439\u001b[0m     \u001b[39mwith\u001b[39;00m \u001b[39mself\u001b[39m\u001b[39m.\u001b[39m_client\u001b[39m.\u001b[39m_conn_from_server(\u001b[39mself\u001b[39m\u001b[39m.\u001b[39m_read_pref, \u001b[39mself\u001b[39m\u001b[39m.\u001b[39m_server, \u001b[39mself\u001b[39m\u001b[39m.\u001b[39m_session) \u001b[39mas\u001b[39;00m (\n\u001b[1;32m   2440\u001b[0m         conn,\n\u001b[1;32m   2441\u001b[0m         read_pref,\n\u001b[1;32m   2442\u001b[0m     ):\n",
      "File \u001b[0;32m~/anaconda3/lib/python3.11/site-packages/pymongo/mongo_client.py:2400\u001b[0m, in \u001b[0;36m_ClientConnectionRetryable._get_server\u001b[0;34m(self)\u001b[0m\n\u001b[1;32m   2394\u001b[0m \u001b[39mdef\u001b[39;00m \u001b[39m_get_server\u001b[39m(\u001b[39mself\u001b[39m) \u001b[39m-\u001b[39m\u001b[39m>\u001b[39m Server:\n\u001b[1;32m   2395\u001b[0m \u001b[39m    \u001b[39m\u001b[39m\"\"\"Retrieves a server object based on provided object context\u001b[39;00m\n\u001b[1;32m   2396\u001b[0m \n\u001b[1;32m   2397\u001b[0m \u001b[39m    :Returns:\u001b[39;00m\n\u001b[1;32m   2398\u001b[0m \u001b[39m        Abstraction to connect to server\u001b[39;00m\n\u001b[1;32m   2399\u001b[0m \u001b[39m    \"\"\"\u001b[39;00m\n\u001b[0;32m-> 2400\u001b[0m     \u001b[39mreturn\u001b[39;00m \u001b[39mself\u001b[39m\u001b[39m.\u001b[39m_client\u001b[39m.\u001b[39m_select_server(\n\u001b[1;32m   2401\u001b[0m         \u001b[39mself\u001b[39m\u001b[39m.\u001b[39m_server_selector, \u001b[39mself\u001b[39m\u001b[39m.\u001b[39m_session, address\u001b[39m=\u001b[39m\u001b[39mself\u001b[39m\u001b[39m.\u001b[39m_address\n\u001b[1;32m   2402\u001b[0m     )\n",
      "File \u001b[0;32m~/anaconda3/lib/python3.11/site-packages/pymongo/mongo_client.py:1303\u001b[0m, in \u001b[0;36mMongoClient._select_server\u001b[0;34m(self, server_selector, session, address)\u001b[0m\n\u001b[1;32m   1301\u001b[0m             \u001b[39mraise\u001b[39;00m AutoReconnect(\u001b[39m\"\u001b[39m\u001b[39mserver \u001b[39m\u001b[39m%s\u001b[39;00m\u001b[39m:\u001b[39m\u001b[39m%s\u001b[39;00m\u001b[39m no longer available\u001b[39m\u001b[39m\"\u001b[39m \u001b[39m%\u001b[39m address)  \u001b[39m# noqa: UP031\u001b[39;00m\n\u001b[1;32m   1302\u001b[0m     \u001b[39melse\u001b[39;00m:\n\u001b[0;32m-> 1303\u001b[0m         server \u001b[39m=\u001b[39m topology\u001b[39m.\u001b[39mselect_server(server_selector)\n\u001b[1;32m   1304\u001b[0m     \u001b[39mreturn\u001b[39;00m server\n\u001b[1;32m   1305\u001b[0m \u001b[39mexcept\u001b[39;00m PyMongoError \u001b[39mas\u001b[39;00m exc:\n\u001b[1;32m   1306\u001b[0m     \u001b[39m# Server selection errors in a transaction are transient.\u001b[39;00m\n",
      "File \u001b[0;32m~/anaconda3/lib/python3.11/site-packages/pymongo/topology.py:302\u001b[0m, in \u001b[0;36mTopology.select_server\u001b[0;34m(self, selector, server_selection_timeout, address)\u001b[0m\n\u001b[1;32m    295\u001b[0m \u001b[39mdef\u001b[39;00m \u001b[39mselect_server\u001b[39m(\n\u001b[1;32m    296\u001b[0m     \u001b[39mself\u001b[39m,\n\u001b[1;32m    297\u001b[0m     selector: Callable[[Selection], Selection],\n\u001b[1;32m    298\u001b[0m     server_selection_timeout: Optional[\u001b[39mfloat\u001b[39m] \u001b[39m=\u001b[39m \u001b[39mNone\u001b[39;00m,\n\u001b[1;32m    299\u001b[0m     address: Optional[_Address] \u001b[39m=\u001b[39m \u001b[39mNone\u001b[39;00m,\n\u001b[1;32m    300\u001b[0m ) \u001b[39m-\u001b[39m\u001b[39m>\u001b[39m Server:\n\u001b[1;32m    301\u001b[0m \u001b[39m    \u001b[39m\u001b[39m\"\"\"Like select_servers, but choose a random server if several match.\"\"\"\u001b[39;00m\n\u001b[0;32m--> 302\u001b[0m     server \u001b[39m=\u001b[39m \u001b[39mself\u001b[39m\u001b[39m.\u001b[39m_select_server(selector, server_selection_timeout, address)\n\u001b[1;32m    303\u001b[0m     \u001b[39mif\u001b[39;00m _csot\u001b[39m.\u001b[39mget_timeout():\n\u001b[1;32m    304\u001b[0m         _csot\u001b[39m.\u001b[39mset_rtt(server\u001b[39m.\u001b[39mdescription\u001b[39m.\u001b[39mmin_round_trip_time)\n",
      "File \u001b[0;32m~/anaconda3/lib/python3.11/site-packages/pymongo/topology.py:286\u001b[0m, in \u001b[0;36mTopology._select_server\u001b[0;34m(self, selector, server_selection_timeout, address)\u001b[0m\n\u001b[1;32m    280\u001b[0m \u001b[39mdef\u001b[39;00m \u001b[39m_select_server\u001b[39m(\n\u001b[1;32m    281\u001b[0m     \u001b[39mself\u001b[39m,\n\u001b[1;32m    282\u001b[0m     selector: Callable[[Selection], Selection],\n\u001b[1;32m    283\u001b[0m     server_selection_timeout: Optional[\u001b[39mfloat\u001b[39m] \u001b[39m=\u001b[39m \u001b[39mNone\u001b[39;00m,\n\u001b[1;32m    284\u001b[0m     address: Optional[_Address] \u001b[39m=\u001b[39m \u001b[39mNone\u001b[39;00m,\n\u001b[1;32m    285\u001b[0m ) \u001b[39m-\u001b[39m\u001b[39m>\u001b[39m Server:\n\u001b[0;32m--> 286\u001b[0m     servers \u001b[39m=\u001b[39m \u001b[39mself\u001b[39m\u001b[39m.\u001b[39mselect_servers(selector, server_selection_timeout, address)\n\u001b[1;32m    287\u001b[0m     \u001b[39mif\u001b[39;00m \u001b[39mlen\u001b[39m(servers) \u001b[39m==\u001b[39m \u001b[39m1\u001b[39m:\n\u001b[1;32m    288\u001b[0m         \u001b[39mreturn\u001b[39;00m servers[\u001b[39m0\u001b[39m]\n",
      "File \u001b[0;32m~/anaconda3/lib/python3.11/site-packages/pymongo/topology.py:237\u001b[0m, in \u001b[0;36mTopology.select_servers\u001b[0;34m(self, selector, server_selection_timeout, address)\u001b[0m\n\u001b[1;32m    234\u001b[0m     server_timeout \u001b[39m=\u001b[39m server_selection_timeout\n\u001b[1;32m    236\u001b[0m \u001b[39mwith\u001b[39;00m \u001b[39mself\u001b[39m\u001b[39m.\u001b[39m_lock:\n\u001b[0;32m--> 237\u001b[0m     server_descriptions \u001b[39m=\u001b[39m \u001b[39mself\u001b[39m\u001b[39m.\u001b[39m_select_servers_loop(selector, server_timeout, address)\n\u001b[1;32m    239\u001b[0m     \u001b[39mreturn\u001b[39;00m [\n\u001b[1;32m    240\u001b[0m         cast(Server, \u001b[39mself\u001b[39m\u001b[39m.\u001b[39mget_server_by_address(sd\u001b[39m.\u001b[39maddress)) \u001b[39mfor\u001b[39;00m sd \u001b[39min\u001b[39;00m server_descriptions\n\u001b[1;32m    241\u001b[0m     ]\n",
      "File \u001b[0;32m~/anaconda3/lib/python3.11/site-packages/pymongo/topology.py:259\u001b[0m, in \u001b[0;36mTopology._select_servers_loop\u001b[0;34m(self, selector, timeout, address)\u001b[0m\n\u001b[1;32m    256\u001b[0m \u001b[39mwhile\u001b[39;00m \u001b[39mnot\u001b[39;00m server_descriptions:\n\u001b[1;32m    257\u001b[0m     \u001b[39m# No suitable servers.\u001b[39;00m\n\u001b[1;32m    258\u001b[0m     \u001b[39mif\u001b[39;00m timeout \u001b[39m==\u001b[39m \u001b[39m0\u001b[39m \u001b[39mor\u001b[39;00m now \u001b[39m>\u001b[39m end_time:\n\u001b[0;32m--> 259\u001b[0m         \u001b[39mraise\u001b[39;00m ServerSelectionTimeoutError(\n\u001b[1;32m    260\u001b[0m             \u001b[39mf\u001b[39m\u001b[39m\"\u001b[39m\u001b[39m{\u001b[39;00m\u001b[39mself\u001b[39m\u001b[39m.\u001b[39m_error_message(selector)\u001b[39m}\u001b[39;00m\u001b[39m, Timeout: \u001b[39m\u001b[39m{\u001b[39;00mtimeout\u001b[39m}\u001b[39;00m\u001b[39ms, Topology Description: \u001b[39m\u001b[39m{\u001b[39;00m\u001b[39mself\u001b[39m\u001b[39m.\u001b[39mdescription\u001b[39m!r}\u001b[39;00m\u001b[39m\"\u001b[39m\n\u001b[1;32m    261\u001b[0m         )\n\u001b[1;32m    263\u001b[0m     \u001b[39mself\u001b[39m\u001b[39m.\u001b[39m_ensure_opened()\n\u001b[1;32m    264\u001b[0m     \u001b[39mself\u001b[39m\u001b[39m.\u001b[39m_request_check_all()\n",
      "\u001b[0;31mServerSelectionTimeoutError\u001b[0m: localhost:27017: [Errno 61] Connection refused (configured timeouts: socketTimeoutMS: 20000.0ms, connectTimeoutMS: 20000.0ms), Timeout: 30s, Topology Description: <TopologyDescription id: 65ffa3330bbbc474c8e9c29d, topology_type: Unknown, servers: [<ServerDescription ('localhost', 27017) server_type: Unknown, rtt: None, error=AutoReconnect('localhost:27017: [Errno 61] Connection refused (configured timeouts: socketTimeoutMS: 20000.0ms, connectTimeoutMS: 20000.0ms)')>]>"
     ]
    }
   ],
   "source": [
    "# review the collections in our database\n",
    "db.list_collection_names()"
   ]
  },
  {
   "cell_type": "code",
   "execution_count": 5,
   "id": "11c9f11b",
   "metadata": {},
   "outputs": [],
   "source": [
    "# assign the collection to a variable\n",
    "establishments = db['establishments']"
   ]
  },
  {
   "cell_type": "markdown",
   "id": "d5671434",
   "metadata": {},
   "source": [
    "## Part 3: Exploratory Analysis\n",
    "Unless otherwise stated, for each question: \n",
    "* Use `count_documents` to display the number of documents contained in the result.\n",
    "* Display the first document in the results using `pprint`.\n",
    "* Convert the result to a Pandas DataFrame, print the number of rows in the DataFrame, and display the first 10 rows."
   ]
  },
  {
   "cell_type": "markdown",
   "id": "314bd884",
   "metadata": {},
   "source": [
    "### 1. Which establishments have a hygiene score equal to 20?"
   ]
  },
  {
   "cell_type": "code",
   "execution_count": 10,
   "id": "dcf0ebdb",
   "metadata": {},
   "outputs": [
    {
     "ename": "ServerSelectionTimeoutError",
     "evalue": "localhost:27017: [Errno 61] Connection refused (configured timeouts: socketTimeoutMS: 20000.0ms, connectTimeoutMS: 20000.0ms), Timeout: 30s, Topology Description: <TopologyDescription id: 65ffa0ed0bbbc474c8e9c29c, topology_type: Unknown, servers: [<ServerDescription ('localhost', 27017) server_type: Unknown, rtt: None, error=AutoReconnect('localhost:27017: [Errno 61] Connection refused (configured timeouts: socketTimeoutMS: 20000.0ms, connectTimeoutMS: 20000.0ms)')>]>",
     "output_type": "error",
     "traceback": [
      "\u001b[0;31m---------------------------------------------------------------------------\u001b[0m",
      "\u001b[0;31mServerSelectionTimeoutError\u001b[0m               Traceback (most recent call last)",
      "\u001b[1;32m/Users/carlosaraujo/Desktop/DataClass/HW_Challenge/nosql-challenge/Starter_Code/NoSQL_analysis_starter.ipynb Cell 10\u001b[0m line \u001b[0;36m1\n\u001b[0;32m----> <a href='vscode-notebook-cell:/Users/carlosaraujo/Desktop/DataClass/HW_Challenge/nosql-challenge/Starter_Code/NoSQL_analysis_starter.ipynb#X26sZmlsZQ%3D%3D?line=0'>1</a>\u001b[0m establishments\u001b[39m.\u001b[39mfind_one()\n",
      "File \u001b[0;32m~/anaconda3/lib/python3.11/site-packages/pymongo/collection.py:1506\u001b[0m, in \u001b[0;36mCollection.find_one\u001b[0;34m(self, filter, *args, **kwargs)\u001b[0m\n\u001b[1;32m   1504\u001b[0m     \u001b[39mfilter\u001b[39m \u001b[39m=\u001b[39m {\u001b[39m\"\u001b[39m\u001b[39m_id\u001b[39m\u001b[39m\"\u001b[39m: \u001b[39mfilter\u001b[39m}\n\u001b[1;32m   1505\u001b[0m cursor \u001b[39m=\u001b[39m \u001b[39mself\u001b[39m\u001b[39m.\u001b[39mfind(\u001b[39mfilter\u001b[39m, \u001b[39m*\u001b[39margs, \u001b[39m*\u001b[39m\u001b[39m*\u001b[39mkwargs)\n\u001b[0;32m-> 1506\u001b[0m \u001b[39mfor\u001b[39;00m result \u001b[39min\u001b[39;00m cursor\u001b[39m.\u001b[39mlimit(\u001b[39m-\u001b[39m\u001b[39m1\u001b[39m):\n\u001b[1;32m   1507\u001b[0m     \u001b[39mreturn\u001b[39;00m result\n\u001b[1;32m   1508\u001b[0m \u001b[39mreturn\u001b[39;00m \u001b[39mNone\u001b[39;00m\n",
      "File \u001b[0;32m~/anaconda3/lib/python3.11/site-packages/pymongo/cursor.py:1264\u001b[0m, in \u001b[0;36mCursor.next\u001b[0;34m(self)\u001b[0m\n\u001b[1;32m   1262\u001b[0m \u001b[39mif\u001b[39;00m \u001b[39mself\u001b[39m\u001b[39m.\u001b[39m__empty:\n\u001b[1;32m   1263\u001b[0m     \u001b[39mraise\u001b[39;00m \u001b[39mStopIteration\u001b[39;00m\n\u001b[0;32m-> 1264\u001b[0m \u001b[39mif\u001b[39;00m \u001b[39mlen\u001b[39m(\u001b[39mself\u001b[39m\u001b[39m.\u001b[39m__data) \u001b[39mor\u001b[39;00m \u001b[39mself\u001b[39m\u001b[39m.\u001b[39m_refresh():\n\u001b[1;32m   1265\u001b[0m     \u001b[39mreturn\u001b[39;00m \u001b[39mself\u001b[39m\u001b[39m.\u001b[39m__data\u001b[39m.\u001b[39mpopleft()\n\u001b[1;32m   1266\u001b[0m \u001b[39melse\u001b[39;00m:\n",
      "File \u001b[0;32m~/anaconda3/lib/python3.11/site-packages/pymongo/cursor.py:1155\u001b[0m, in \u001b[0;36mCursor._refresh\u001b[0;34m(self)\u001b[0m\n\u001b[1;32m   1152\u001b[0m     \u001b[39mreturn\u001b[39;00m \u001b[39mlen\u001b[39m(\u001b[39mself\u001b[39m\u001b[39m.\u001b[39m__data)\n\u001b[1;32m   1154\u001b[0m \u001b[39mif\u001b[39;00m \u001b[39mnot\u001b[39;00m \u001b[39mself\u001b[39m\u001b[39m.\u001b[39m__session:\n\u001b[0;32m-> 1155\u001b[0m     \u001b[39mself\u001b[39m\u001b[39m.\u001b[39m__session \u001b[39m=\u001b[39m \u001b[39mself\u001b[39m\u001b[39m.\u001b[39m__collection\u001b[39m.\u001b[39mdatabase\u001b[39m.\u001b[39mclient\u001b[39m.\u001b[39m_ensure_session()\n\u001b[1;32m   1157\u001b[0m \u001b[39mif\u001b[39;00m \u001b[39mself\u001b[39m\u001b[39m.\u001b[39m__id \u001b[39mis\u001b[39;00m \u001b[39mNone\u001b[39;00m:  \u001b[39m# Query\u001b[39;00m\n\u001b[1;32m   1158\u001b[0m     \u001b[39mif\u001b[39;00m (\u001b[39mself\u001b[39m\u001b[39m.\u001b[39m__min \u001b[39mor\u001b[39;00m \u001b[39mself\u001b[39m\u001b[39m.\u001b[39m__max) \u001b[39mand\u001b[39;00m \u001b[39mnot\u001b[39;00m \u001b[39mself\u001b[39m\u001b[39m.\u001b[39m__hint:\n",
      "File \u001b[0;32m~/anaconda3/lib/python3.11/site-packages/pymongo/mongo_client.py:1823\u001b[0m, in \u001b[0;36mMongoClient._ensure_session\u001b[0;34m(self, session)\u001b[0m\n\u001b[1;32m   1818\u001b[0m     \u001b[39mreturn\u001b[39;00m session\n\u001b[1;32m   1820\u001b[0m \u001b[39mtry\u001b[39;00m:\n\u001b[1;32m   1821\u001b[0m     \u001b[39m# Don't make implicit sessions causally consistent. Applications\u001b[39;00m\n\u001b[1;32m   1822\u001b[0m     \u001b[39m# should always opt-in.\u001b[39;00m\n\u001b[0;32m-> 1823\u001b[0m     \u001b[39mreturn\u001b[39;00m \u001b[39mself\u001b[39m\u001b[39m.\u001b[39m__start_session(\u001b[39mTrue\u001b[39;00m, causal_consistency\u001b[39m=\u001b[39m\u001b[39mFalse\u001b[39;00m)\n\u001b[1;32m   1824\u001b[0m \u001b[39mexcept\u001b[39;00m (ConfigurationError, InvalidOperation):\n\u001b[1;32m   1825\u001b[0m     \u001b[39m# Sessions not supported.\u001b[39;00m\n\u001b[1;32m   1826\u001b[0m     \u001b[39mreturn\u001b[39;00m \u001b[39mNone\u001b[39;00m\n",
      "File \u001b[0;32m~/anaconda3/lib/python3.11/site-packages/pymongo/mongo_client.py:1766\u001b[0m, in \u001b[0;36mMongoClient.__start_session\u001b[0;34m(self, implicit, **kwargs)\u001b[0m\n\u001b[1;32m   1763\u001b[0m \u001b[39mdef\u001b[39;00m \u001b[39m__start_session\u001b[39m(\u001b[39mself\u001b[39m, implicit: \u001b[39mbool\u001b[39m, \u001b[39m*\u001b[39m\u001b[39m*\u001b[39mkwargs: Any) \u001b[39m-\u001b[39m\u001b[39m>\u001b[39m ClientSession:\n\u001b[1;32m   1764\u001b[0m     \u001b[39m# Raises ConfigurationError if sessions are not supported.\u001b[39;00m\n\u001b[1;32m   1765\u001b[0m     \u001b[39mif\u001b[39;00m implicit:\n\u001b[0;32m-> 1766\u001b[0m         \u001b[39mself\u001b[39m\u001b[39m.\u001b[39m_topology\u001b[39m.\u001b[39m_check_implicit_session_support()\n\u001b[1;32m   1767\u001b[0m         server_session: Union[_EmptyServerSession, _ServerSession] \u001b[39m=\u001b[39m _EmptyServerSession()\n\u001b[1;32m   1768\u001b[0m     \u001b[39melse\u001b[39;00m:\n",
      "File \u001b[0;32m~/anaconda3/lib/python3.11/site-packages/pymongo/topology.py:573\u001b[0m, in \u001b[0;36mTopology._check_implicit_session_support\u001b[0;34m(self)\u001b[0m\n\u001b[1;32m    571\u001b[0m \u001b[39mdef\u001b[39;00m \u001b[39m_check_implicit_session_support\u001b[39m(\u001b[39mself\u001b[39m) \u001b[39m-\u001b[39m\u001b[39m>\u001b[39m \u001b[39mNone\u001b[39;00m:\n\u001b[1;32m    572\u001b[0m     \u001b[39mwith\u001b[39;00m \u001b[39mself\u001b[39m\u001b[39m.\u001b[39m_lock:\n\u001b[0;32m--> 573\u001b[0m         \u001b[39mself\u001b[39m\u001b[39m.\u001b[39m_check_session_support()\n",
      "File \u001b[0;32m~/anaconda3/lib/python3.11/site-packages/pymongo/topology.py:589\u001b[0m, in \u001b[0;36mTopology._check_session_support\u001b[0;34m(self)\u001b[0m\n\u001b[1;32m    585\u001b[0m         \u001b[39mself\u001b[39m\u001b[39m.\u001b[39m_select_servers_loop(\n\u001b[1;32m    586\u001b[0m             any_server_selector, \u001b[39mself\u001b[39m\u001b[39m.\u001b[39mget_server_selection_timeout(), \u001b[39mNone\u001b[39;00m\n\u001b[1;32m    587\u001b[0m         )\n\u001b[1;32m    588\u001b[0m \u001b[39melif\u001b[39;00m \u001b[39mnot\u001b[39;00m \u001b[39mself\u001b[39m\u001b[39m.\u001b[39m_description\u001b[39m.\u001b[39mreadable_servers:\n\u001b[0;32m--> 589\u001b[0m     \u001b[39mself\u001b[39m\u001b[39m.\u001b[39m_select_servers_loop(\n\u001b[1;32m    590\u001b[0m         readable_server_selector, \u001b[39mself\u001b[39m\u001b[39m.\u001b[39mget_server_selection_timeout(), \u001b[39mNone\u001b[39;00m\n\u001b[1;32m    591\u001b[0m     )\n\u001b[1;32m    593\u001b[0m session_timeout \u001b[39m=\u001b[39m \u001b[39mself\u001b[39m\u001b[39m.\u001b[39m_description\u001b[39m.\u001b[39mlogical_session_timeout_minutes\n\u001b[1;32m    594\u001b[0m \u001b[39mif\u001b[39;00m session_timeout \u001b[39mis\u001b[39;00m \u001b[39mNone\u001b[39;00m:\n",
      "File \u001b[0;32m~/anaconda3/lib/python3.11/site-packages/pymongo/topology.py:259\u001b[0m, in \u001b[0;36mTopology._select_servers_loop\u001b[0;34m(self, selector, timeout, address)\u001b[0m\n\u001b[1;32m    256\u001b[0m \u001b[39mwhile\u001b[39;00m \u001b[39mnot\u001b[39;00m server_descriptions:\n\u001b[1;32m    257\u001b[0m     \u001b[39m# No suitable servers.\u001b[39;00m\n\u001b[1;32m    258\u001b[0m     \u001b[39mif\u001b[39;00m timeout \u001b[39m==\u001b[39m \u001b[39m0\u001b[39m \u001b[39mor\u001b[39;00m now \u001b[39m>\u001b[39m end_time:\n\u001b[0;32m--> 259\u001b[0m         \u001b[39mraise\u001b[39;00m ServerSelectionTimeoutError(\n\u001b[1;32m    260\u001b[0m             \u001b[39mf\u001b[39m\u001b[39m\"\u001b[39m\u001b[39m{\u001b[39;00m\u001b[39mself\u001b[39m\u001b[39m.\u001b[39m_error_message(selector)\u001b[39m}\u001b[39;00m\u001b[39m, Timeout: \u001b[39m\u001b[39m{\u001b[39;00mtimeout\u001b[39m}\u001b[39;00m\u001b[39ms, Topology Description: \u001b[39m\u001b[39m{\u001b[39;00m\u001b[39mself\u001b[39m\u001b[39m.\u001b[39mdescription\u001b[39m!r}\u001b[39;00m\u001b[39m\"\u001b[39m\n\u001b[1;32m    261\u001b[0m         )\n\u001b[1;32m    263\u001b[0m     \u001b[39mself\u001b[39m\u001b[39m.\u001b[39m_ensure_opened()\n\u001b[1;32m    264\u001b[0m     \u001b[39mself\u001b[39m\u001b[39m.\u001b[39m_request_check_all()\n",
      "\u001b[0;31mServerSelectionTimeoutError\u001b[0m: localhost:27017: [Errno 61] Connection refused (configured timeouts: socketTimeoutMS: 20000.0ms, connectTimeoutMS: 20000.0ms), Timeout: 30s, Topology Description: <TopologyDescription id: 65ffa0ed0bbbc474c8e9c29c, topology_type: Unknown, servers: [<ServerDescription ('localhost', 27017) server_type: Unknown, rtt: None, error=AutoReconnect('localhost:27017: [Errno 61] Connection refused (configured timeouts: socketTimeoutMS: 20000.0ms, connectTimeoutMS: 20000.0ms)')>]>"
     ]
    }
   ],
   "source": [
    "establishments.find_one()"
   ]
  },
  {
   "cell_type": "code",
   "execution_count": 9,
   "id": "c2da7648",
   "metadata": {},
   "outputs": [
    {
     "ename": "KeyboardInterrupt",
     "evalue": "",
     "output_type": "error",
     "traceback": [
      "\u001b[0;31m---------------------------------------------------------------------------\u001b[0m",
      "\u001b[0;31mKeyboardInterrupt\u001b[0m                         Traceback (most recent call last)",
      "\u001b[1;32m/Users/carlosaraujo/Desktop/DataClass/HW_Challenge/nosql-challenge/Starter_Code/NoSQL_analysis_starter.ipynb Cell 11\u001b[0m line \u001b[0;36m6\n\u001b[1;32m      <a href='vscode-notebook-cell:/Users/carlosaraujo/Desktop/DataClass/HW_Challenge/nosql-challenge/Starter_Code/NoSQL_analysis_starter.ipynb#X12sZmlsZQ%3D%3D?line=2'>3</a>\u001b[0m results \u001b[39m=\u001b[39m establishments\u001b[39m.\u001b[39mfind(query)\n\u001b[1;32m      <a href='vscode-notebook-cell:/Users/carlosaraujo/Desktop/DataClass/HW_Challenge/nosql-challenge/Starter_Code/NoSQL_analysis_starter.ipynb#X12sZmlsZQ%3D%3D?line=4'>5</a>\u001b[0m \u001b[39m# Use count_documents to display the number of documents in the result\u001b[39;00m\n\u001b[0;32m----> <a href='vscode-notebook-cell:/Users/carlosaraujo/Desktop/DataClass/HW_Challenge/nosql-challenge/Starter_Code/NoSQL_analysis_starter.ipynb#X12sZmlsZQ%3D%3D?line=5'>6</a>\u001b[0m establishments\u001b[39m.\u001b[39mcount_documents(query)\n\u001b[1;32m      <a href='vscode-notebook-cell:/Users/carlosaraujo/Desktop/DataClass/HW_Challenge/nosql-challenge/Starter_Code/NoSQL_analysis_starter.ipynb#X12sZmlsZQ%3D%3D?line=7'>8</a>\u001b[0m \u001b[39m# Display the first document in the results using pprint\u001b[39;00m\n\u001b[1;32m      <a href='vscode-notebook-cell:/Users/carlosaraujo/Desktop/DataClass/HW_Challenge/nosql-challenge/Starter_Code/NoSQL_analysis_starter.ipynb#X12sZmlsZQ%3D%3D?line=8'>9</a>\u001b[0m pprint(establishments\u001b[39m.\u001b[39mfind_one(query))\n",
      "File \u001b[0;32m~/anaconda3/lib/python3.11/site-packages/pymongo/collection.py:1913\u001b[0m, in \u001b[0;36mCollection.count_documents\u001b[0;34m(self, filter, session, comment, **kwargs)\u001b[0m\n\u001b[1;32m   1910\u001b[0m         \u001b[39mreturn\u001b[39;00m \u001b[39m0\u001b[39m\n\u001b[1;32m   1911\u001b[0m     \u001b[39mreturn\u001b[39;00m result[\u001b[39m\"\u001b[39m\u001b[39mn\u001b[39m\u001b[39m\"\u001b[39m]\n\u001b[0;32m-> 1913\u001b[0m \u001b[39mreturn\u001b[39;00m \u001b[39mself\u001b[39m\u001b[39m.\u001b[39m_retryable_non_cursor_read(_cmd, session)\n",
      "File \u001b[0;32m~/anaconda3/lib/python3.11/site-packages/pymongo/collection.py:1922\u001b[0m, in \u001b[0;36mCollection._retryable_non_cursor_read\u001b[0;34m(self, func, session)\u001b[0m\n\u001b[1;32m   1920\u001b[0m \u001b[39m\u001b[39m\u001b[39m\"\"\"Non-cursor read helper to handle implicit session creation.\"\"\"\u001b[39;00m\n\u001b[1;32m   1921\u001b[0m client \u001b[39m=\u001b[39m \u001b[39mself\u001b[39m\u001b[39m.\u001b[39m__database\u001b[39m.\u001b[39mclient\n\u001b[0;32m-> 1922\u001b[0m \u001b[39mwith\u001b[39;00m client\u001b[39m.\u001b[39m_tmp_session(session) \u001b[39mas\u001b[39;00m s:\n\u001b[1;32m   1923\u001b[0m     \u001b[39mreturn\u001b[39;00m client\u001b[39m.\u001b[39m_retryable_read(func, \u001b[39mself\u001b[39m\u001b[39m.\u001b[39m_read_preference_for(s), s)\n",
      "File \u001b[0;32m~/anaconda3/lib/python3.11/contextlib.py:137\u001b[0m, in \u001b[0;36m_GeneratorContextManager.__enter__\u001b[0;34m(self)\u001b[0m\n\u001b[1;32m    135\u001b[0m \u001b[39mdel\u001b[39;00m \u001b[39mself\u001b[39m\u001b[39m.\u001b[39margs, \u001b[39mself\u001b[39m\u001b[39m.\u001b[39mkwds, \u001b[39mself\u001b[39m\u001b[39m.\u001b[39mfunc\n\u001b[1;32m    136\u001b[0m \u001b[39mtry\u001b[39;00m:\n\u001b[0;32m--> 137\u001b[0m     \u001b[39mreturn\u001b[39;00m \u001b[39mnext\u001b[39m(\u001b[39mself\u001b[39m\u001b[39m.\u001b[39mgen)\n\u001b[1;32m    138\u001b[0m \u001b[39mexcept\u001b[39;00m \u001b[39mStopIteration\u001b[39;00m:\n\u001b[1;32m    139\u001b[0m     \u001b[39mraise\u001b[39;00m \u001b[39mRuntimeError\u001b[39;00m(\u001b[39m\"\u001b[39m\u001b[39mgenerator didn\u001b[39m\u001b[39m'\u001b[39m\u001b[39mt yield\u001b[39m\u001b[39m\"\u001b[39m) \u001b[39mfrom\u001b[39;00m \u001b[39mNone\u001b[39;00m\n",
      "File \u001b[0;32m~/anaconda3/lib/python3.11/site-packages/pymongo/mongo_client.py:1840\u001b[0m, in \u001b[0;36mMongoClient._tmp_session\u001b[0;34m(self, session, close)\u001b[0m\n\u001b[1;32m   1837\u001b[0m     \u001b[39myield\u001b[39;00m session\n\u001b[1;32m   1838\u001b[0m     \u001b[39mreturn\u001b[39;00m\n\u001b[0;32m-> 1840\u001b[0m s \u001b[39m=\u001b[39m \u001b[39mself\u001b[39m\u001b[39m.\u001b[39m_ensure_session(session)\n\u001b[1;32m   1841\u001b[0m \u001b[39mif\u001b[39;00m s:\n\u001b[1;32m   1842\u001b[0m     \u001b[39mtry\u001b[39;00m:\n",
      "File \u001b[0;32m~/anaconda3/lib/python3.11/site-packages/pymongo/mongo_client.py:1823\u001b[0m, in \u001b[0;36mMongoClient._ensure_session\u001b[0;34m(self, session)\u001b[0m\n\u001b[1;32m   1818\u001b[0m     \u001b[39mreturn\u001b[39;00m session\n\u001b[1;32m   1820\u001b[0m \u001b[39mtry\u001b[39;00m:\n\u001b[1;32m   1821\u001b[0m     \u001b[39m# Don't make implicit sessions causally consistent. Applications\u001b[39;00m\n\u001b[1;32m   1822\u001b[0m     \u001b[39m# should always opt-in.\u001b[39;00m\n\u001b[0;32m-> 1823\u001b[0m     \u001b[39mreturn\u001b[39;00m \u001b[39mself\u001b[39m\u001b[39m.\u001b[39m__start_session(\u001b[39mTrue\u001b[39;00m, causal_consistency\u001b[39m=\u001b[39m\u001b[39mFalse\u001b[39;00m)\n\u001b[1;32m   1824\u001b[0m \u001b[39mexcept\u001b[39;00m (ConfigurationError, InvalidOperation):\n\u001b[1;32m   1825\u001b[0m     \u001b[39m# Sessions not supported.\u001b[39;00m\n\u001b[1;32m   1826\u001b[0m     \u001b[39mreturn\u001b[39;00m \u001b[39mNone\u001b[39;00m\n",
      "File \u001b[0;32m~/anaconda3/lib/python3.11/site-packages/pymongo/mongo_client.py:1766\u001b[0m, in \u001b[0;36mMongoClient.__start_session\u001b[0;34m(self, implicit, **kwargs)\u001b[0m\n\u001b[1;32m   1763\u001b[0m \u001b[39mdef\u001b[39;00m \u001b[39m__start_session\u001b[39m(\u001b[39mself\u001b[39m, implicit: \u001b[39mbool\u001b[39m, \u001b[39m*\u001b[39m\u001b[39m*\u001b[39mkwargs: Any) \u001b[39m-\u001b[39m\u001b[39m>\u001b[39m ClientSession:\n\u001b[1;32m   1764\u001b[0m     \u001b[39m# Raises ConfigurationError if sessions are not supported.\u001b[39;00m\n\u001b[1;32m   1765\u001b[0m     \u001b[39mif\u001b[39;00m implicit:\n\u001b[0;32m-> 1766\u001b[0m         \u001b[39mself\u001b[39m\u001b[39m.\u001b[39m_topology\u001b[39m.\u001b[39m_check_implicit_session_support()\n\u001b[1;32m   1767\u001b[0m         server_session: Union[_EmptyServerSession, _ServerSession] \u001b[39m=\u001b[39m _EmptyServerSession()\n\u001b[1;32m   1768\u001b[0m     \u001b[39melse\u001b[39;00m:\n",
      "File \u001b[0;32m~/anaconda3/lib/python3.11/site-packages/pymongo/topology.py:573\u001b[0m, in \u001b[0;36mTopology._check_implicit_session_support\u001b[0;34m(self)\u001b[0m\n\u001b[1;32m    571\u001b[0m \u001b[39mdef\u001b[39;00m \u001b[39m_check_implicit_session_support\u001b[39m(\u001b[39mself\u001b[39m) \u001b[39m-\u001b[39m\u001b[39m>\u001b[39m \u001b[39mNone\u001b[39;00m:\n\u001b[1;32m    572\u001b[0m     \u001b[39mwith\u001b[39;00m \u001b[39mself\u001b[39m\u001b[39m.\u001b[39m_lock:\n\u001b[0;32m--> 573\u001b[0m         \u001b[39mself\u001b[39m\u001b[39m.\u001b[39m_check_session_support()\n",
      "File \u001b[0;32m~/anaconda3/lib/python3.11/site-packages/pymongo/topology.py:589\u001b[0m, in \u001b[0;36mTopology._check_session_support\u001b[0;34m(self)\u001b[0m\n\u001b[1;32m    585\u001b[0m         \u001b[39mself\u001b[39m\u001b[39m.\u001b[39m_select_servers_loop(\n\u001b[1;32m    586\u001b[0m             any_server_selector, \u001b[39mself\u001b[39m\u001b[39m.\u001b[39mget_server_selection_timeout(), \u001b[39mNone\u001b[39;00m\n\u001b[1;32m    587\u001b[0m         )\n\u001b[1;32m    588\u001b[0m \u001b[39melif\u001b[39;00m \u001b[39mnot\u001b[39;00m \u001b[39mself\u001b[39m\u001b[39m.\u001b[39m_description\u001b[39m.\u001b[39mreadable_servers:\n\u001b[0;32m--> 589\u001b[0m     \u001b[39mself\u001b[39m\u001b[39m.\u001b[39m_select_servers_loop(\n\u001b[1;32m    590\u001b[0m         readable_server_selector, \u001b[39mself\u001b[39m\u001b[39m.\u001b[39mget_server_selection_timeout(), \u001b[39mNone\u001b[39;00m\n\u001b[1;32m    591\u001b[0m     )\n\u001b[1;32m    593\u001b[0m session_timeout \u001b[39m=\u001b[39m \u001b[39mself\u001b[39m\u001b[39m.\u001b[39m_description\u001b[39m.\u001b[39mlogical_session_timeout_minutes\n\u001b[1;32m    594\u001b[0m \u001b[39mif\u001b[39;00m session_timeout \u001b[39mis\u001b[39;00m \u001b[39mNone\u001b[39;00m:\n",
      "File \u001b[0;32m~/anaconda3/lib/python3.11/site-packages/pymongo/topology.py:270\u001b[0m, in \u001b[0;36mTopology._select_servers_loop\u001b[0;34m(self, selector, timeout, address)\u001b[0m\n\u001b[1;32m    264\u001b[0m \u001b[39mself\u001b[39m\u001b[39m.\u001b[39m_request_check_all()\n\u001b[1;32m    266\u001b[0m \u001b[39m# Release the lock and wait for the topology description to\u001b[39;00m\n\u001b[1;32m    267\u001b[0m \u001b[39m# change, or for a timeout. We won't miss any changes that\u001b[39;00m\n\u001b[1;32m    268\u001b[0m \u001b[39m# came after our most recent apply_selector call, since we've\u001b[39;00m\n\u001b[1;32m    269\u001b[0m \u001b[39m# held the lock until now.\u001b[39;00m\n\u001b[0;32m--> 270\u001b[0m \u001b[39mself\u001b[39m\u001b[39m.\u001b[39m_condition\u001b[39m.\u001b[39mwait(common\u001b[39m.\u001b[39mMIN_HEARTBEAT_INTERVAL)\n\u001b[1;32m    271\u001b[0m \u001b[39mself\u001b[39m\u001b[39m.\u001b[39m_description\u001b[39m.\u001b[39mcheck_compatible()\n\u001b[1;32m    272\u001b[0m now \u001b[39m=\u001b[39m time\u001b[39m.\u001b[39mmonotonic()\n",
      "File \u001b[0;32m~/anaconda3/lib/python3.11/threading.py:324\u001b[0m, in \u001b[0;36mCondition.wait\u001b[0;34m(self, timeout)\u001b[0m\n\u001b[1;32m    322\u001b[0m \u001b[39melse\u001b[39;00m:\n\u001b[1;32m    323\u001b[0m     \u001b[39mif\u001b[39;00m timeout \u001b[39m>\u001b[39m \u001b[39m0\u001b[39m:\n\u001b[0;32m--> 324\u001b[0m         gotit \u001b[39m=\u001b[39m waiter\u001b[39m.\u001b[39macquire(\u001b[39mTrue\u001b[39;00m, timeout)\n\u001b[1;32m    325\u001b[0m     \u001b[39melse\u001b[39;00m:\n\u001b[1;32m    326\u001b[0m         gotit \u001b[39m=\u001b[39m waiter\u001b[39m.\u001b[39macquire(\u001b[39mFalse\u001b[39;00m)\n",
      "\u001b[0;31mKeyboardInterrupt\u001b[0m: "
     ]
    }
   ],
   "source": [
    "# Find the establishments with a hygiene score of 20\n",
    "query ={\"scores.Hygiene\": 20}\n",
    "results = establishments.find(query)\n",
    "\n",
    "# Use count_documents to display the number of documents in the result\n",
    "establishments.count_documents(query)\n",
    "\n",
    "# Display the first document in the results using pprint\n",
    "pprint(establishments.find_one(query))\n"
   ]
  },
  {
   "cell_type": "code",
   "execution_count": null,
   "id": "a6e5cece",
   "metadata": {},
   "outputs": [],
   "source": [
    "# Convert the result to a Pandas DataFrame\n",
    "results_df = pd.json_normalize(establishments.find(query))\n",
    "results_df\n",
    "\n",
    "\n",
    "# Display the number of rows in the DataFrame\n",
    "print(results_df.count())\n",
    "\n",
    "# Display the first 10 rows of the DataFrame\n",
    "results_df.head(10)"
   ]
  },
  {
   "cell_type": "markdown",
   "id": "0ef4395a",
   "metadata": {},
   "source": [
    "### 2. Which establishments in London have a `RatingValue` greater than or equal to 4?"
   ]
  },
  {
   "cell_type": "code",
   "execution_count": null,
   "id": "84263299",
   "metadata": {},
   "outputs": [],
   "source": [
    "establishments.find_one()"
   ]
  },
  {
   "cell_type": "code",
   "execution_count": null,
   "id": "93c63829",
   "metadata": {},
   "outputs": [],
   "source": [
    "# Find the establishments with London as the Local Authority and has a RatingValue greater than or equal to 4.\n",
    "query = {'LocalAuthorityName': {'$regex': \"London\"}, 'RatingValue': {'$gte': 4}}\n",
    "\n",
    "results = establishments.find(query)\n",
    "\n",
    "# Use count_documents to display the number of documents in the result\n",
    "establishments.count_documents(query)\n",
    "\n",
    "\n",
    "# Display the first document in the results using pprint\n",
    "pprint(establishments.find_one(query))\n",
    "\n"
   ]
  },
  {
   "cell_type": "code",
   "execution_count": null,
   "id": "07e24ccb",
   "metadata": {},
   "outputs": [],
   "source": [
    "# Convert the result to a Pandas DataFrame\n",
    "results_df = pd.json_normalize(establishments.find(query))\n",
    "results_df\n",
    "\n",
    "\n",
    "# Display the number of rows in the DataFrame\n",
    "print(results_df.count())\n",
    "\n",
    "\n",
    "# Display the first 10 rows of the DataFrame\n",
    "results_df.head(10)"
   ]
  },
  {
   "attachments": {},
   "cell_type": "markdown",
   "id": "4e570caf",
   "metadata": {},
   "source": [
    "### 3. What are the top 5 establishments with a `RatingValue` rating value of 5, sorted by lowest hygiene score, nearest to the new restaurant added, \"Penang Flavours\"?"
   ]
  },
  {
   "cell_type": "code",
   "execution_count": null,
   "id": "7f599f3d",
   "metadata": {},
   "outputs": [],
   "source": [
    "# Search within 0.01 degree on either side of the latitude and longitude.\n",
    "# Rating value must equal 5\n",
    "# Sort by hygiene score\n",
    "\n",
    "establishments.find_one({'BusinessName': 'Penang Flavours'})\n",
    "\n",
    "degree_search = 0.01\n",
    "latitude = 51.49014200\n",
    "longitude = 0.08384000\n",
    "\n",
    "query = {\n",
    "         'geocode.latitude': {'$gt': latitude - degree_search, '$lt': latitude + degree_search},\n",
    "         'geocode.longitude': {'$gt': longitude - degree_search, '$lt': longitude + degree_search},\n",
    "         'RatingValue': 5\n",
    "         }\n",
    "            \n",
    "sort = [('scores.Hygiene', -1)]\n",
    "\n",
    "# Print the results\n",
    "results = list(establishments.find(query).sort(sort))\n",
    "pprint(results)"
   ]
  },
  {
   "cell_type": "code",
   "execution_count": null,
   "id": "a6ad16f7",
   "metadata": {},
   "outputs": [],
   "source": [
    "# Convert result to Pandas DataFrame\n",
    "results_df = pd.json_normalize(results)\n",
    "results_df\n",
    "\n",
    "# Display the number of rows in the DataFrame\n",
    "print(results_df.count())\n",
    "\n",
    "# Display the first 10 rows of the DataFrame\n",
    "results_df.head(10)"
   ]
  },
  {
   "cell_type": "markdown",
   "id": "67281254",
   "metadata": {},
   "source": [
    "### 4. How many establishments in each Local Authority area have a hygiene score of 0?"
   ]
  },
  {
   "cell_type": "code",
   "execution_count": null,
   "id": "4eeb227e",
   "metadata": {},
   "outputs": [],
   "source": [
    "# Create a pipeline that: \n",
    "# 1. Matches establishments with a hygiene score of 0\n",
    "\n",
    "match_query = match_query = {'$match': {'scores.Hygiene': 0}}\n",
    "\n",
    "# 2. Groups the matches by Local Authority\n",
    "\n",
    "group_query = {'$group': {'_id': {\"LocalAuthorityName\": \"$LocalAuthorityName\"}, 'count': { '$sum': 1 }}}\n",
    "              \n",
    "# 3. Sorts the matches from highest to lowest\n",
    "\n",
    "sort_values = {'$sort': { 'count': -1 }}\n",
    "\n",
    "# Print the number of documents in the result\n",
    "\n",
    "pipeline = [match_query, group_query, sort_values]\n",
    "results = list(establishments.aggregate(pipeline))\n",
    "\n",
    "# Print the first 10 results\n",
    "pprint(results[0:10])"
   ]
  },
  {
   "cell_type": "code",
   "execution_count": null,
   "id": "d8aab364",
   "metadata": {},
   "outputs": [],
   "source": [
    "# Convert the result to a Pandas DataFrame\n",
    "\n",
    "results_df = pd.json_normalize(results)\n",
    "results_df\n",
    "\n",
    "# Display the number of rows in the DataFrame\n",
    "print(results_df.count())\n",
    "\n",
    "# Display the first 10 rows of the DataFrame\n",
    "results_df.head(10)\n"
   ]
  }
 ],
 "metadata": {
  "kernelspec": {
   "display_name": "Python 3 (ipykernel)",
   "language": "python",
   "name": "python3"
  },
  "language_info": {
   "codemirror_mode": {
    "name": "ipython",
    "version": 3
   },
   "file_extension": ".py",
   "mimetype": "text/x-python",
   "name": "python",
   "nbconvert_exporter": "python",
   "pygments_lexer": "ipython3",
   "version": "3.11.5"
  }
 },
 "nbformat": 4,
 "nbformat_minor": 5
}
